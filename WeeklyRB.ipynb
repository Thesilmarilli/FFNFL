import pandas as pd
from matplotlib import pyplot as plt
import numpy as np
import seaborn as sns
rb = pd.read_csv('FantasyPros_2020_Week_10_RB_Rankings.csv')
rb = rb.drop(rb.columns[[2,6]], axis=1)
rbtest = rb.iloc[:25, :]
rbplot = pd.melt(rbtest, id_vars=["PLAYER NAME"], value_vars = ['BEST', 'WORST', 'AVG.'])
#plt.ylim=(25, 100)
plt.figure(figsize=(16, 7))
sns.boxplot(x = 'value',y = 'PLAYER NAME', data = rbplot)
